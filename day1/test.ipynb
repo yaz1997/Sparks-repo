{
 "cells": [
  {
   "cell_type": "code",
   "execution_count": 6,
   "metadata": {},
   "outputs": [],
   "source": [
    "\n",
    "# Create a Spark session\n",
    "\n",
    "from pyspark.sql import SparkSession\n",
    "from pyspark.sql.types import StructType, StructField, StringType, IntegerType\n",
    "\n",
    "\n",
    "# Create a Spark session\n",
    "spark = SparkSession.builder.appName(\"PySparkDemo\").getOrCreate()"
   ]
  },
  {
   "cell_type": "code",
   "execution_count": 7,
   "metadata": {},
   "outputs": [],
   "source": [
    "schema = StructType([\n",
    "StructField(\"Name\", StringType(), True),\n",
    "StructField(\"Age\", IntegerType(), True),\n",
    "StructField(\"Gender\", StringType(), True),\n",
    "StructField(\"Salary\", IntegerType(), True)\n",
    "])\n",
    "\n",
    "\n"
   ]
  },
  {
   "cell_type": "code",
   "execution_count": 8,
   "metadata": {},
   "outputs": [],
   "source": [
    "# Create a DataFrame\n",
    "data = [\n",
    "(\"Alice\", 28, \"Female\", 60000),\n",
    "(\"Bob\", 35, \"Male\", 75000),\n",
    "(\"Charlie\", 22, \"Male\", 50000),\n",
    "(\"Diana\", 31, \"Female\", 80000)\n",
    "]\n",
    "df = spark.createDataFrame(data, schema=schema)"
   ]
  },
  {
   "cell_type": "code",
   "execution_count": 9,
   "metadata": {},
   "outputs": [
    {
     "name": "stdout",
     "output_type": "stream",
     "text": [
      "Sample data:\n"
     ]
    },
    {
     "name": "stderr",
     "output_type": "stream",
     "text": [
      "                                                                                \r"
     ]
    },
    {
     "name": "stdout",
     "output_type": "stream",
     "text": [
      "+-------+---+------+------+\n",
      "|   Name|Age|Gender|Salary|\n",
      "+-------+---+------+------+\n",
      "|  Alice| 28|Female| 60000|\n",
      "|    Bob| 35|  Male| 75000|\n",
      "|Charlie| 22|  Male| 50000|\n",
      "|  Diana| 31|Female| 80000|\n",
      "+-------+---+------+------+\n",
      "\n",
      "Transformed data:\n"
     ]
    },
    {
     "name": "stderr",
     "output_type": "stream",
     "text": [
      "[Stage 2:==============>                                            (1 + 3) / 4]\r"
     ]
    },
    {
     "name": "stdout",
     "output_type": "stream",
     "text": [
      "+------+-----------+--------+\n",
      "|Gender|avg(Salary)|max(Age)|\n",
      "+------+-----------+--------+\n",
      "|Female|    70000.0|      31|\n",
      "|  Male|    75000.0|      35|\n",
      "+------+-----------+--------+\n",
      "\n"
     ]
    },
    {
     "name": "stderr",
     "output_type": "stream",
     "text": [
      "                                                                                \r"
     ]
    }
   ],
   "source": [
    "# Show the DataFrame\n",
    "print(\"Sample data:\")\n",
    "df.show()\n",
    "\n",
    "\n",
    "# Perform transformations\n",
    "filtered_data = df.filter(df[\"Age\"] > 25)\n",
    "grouped_data = filtered_data.groupBy(\"Gender\").agg({\"Salary\": \"avg\", \"Age\": \"max\"})\n",
    "\n",
    "\n",
    "# Show transformed data\n",
    "print(\"Transformed data:\")\n",
    "grouped_data.show()"
   ]
  },
  {
   "cell_type": "code",
   "execution_count": null,
   "metadata": {},
   "outputs": [],
   "source": []
  }
 ],
 "metadata": {
  "kernelspec": {
   "display_name": "Python 3",
   "language": "python",
   "name": "python3"
  },
  "language_info": {
   "codemirror_mode": {
    "name": "ipython",
    "version": 3
   },
   "file_extension": ".py",
   "mimetype": "text/x-python",
   "name": "python",
   "nbconvert_exporter": "python",
   "pygments_lexer": "ipython3",
   "version": "3.10.12"
  },
  "orig_nbformat": 4
 },
 "nbformat": 4,
 "nbformat_minor": 2
}
